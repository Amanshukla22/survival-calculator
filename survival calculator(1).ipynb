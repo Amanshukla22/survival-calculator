{
 "cells": [
  {
   "cell_type": "code",
   "execution_count": null,
   "id": "dac5e636-a81f-4718-a2f8-a3a8985034cd",
   "metadata": {},
   "outputs": [],
   "source": []
  },
  {
   "cell_type": "code",
   "execution_count": null,
   "id": "b0bf8f07-3435-4ef6-8f45-586c2182c5ab",
   "metadata": {},
   "outputs": [],
   "source": []
  },
  {
   "cell_type": "markdown",
   "id": "281ac2e4-3c16-4347-8e7d-6245b7974a0f",
   "metadata": {},
   "source": [
    "#   survival  calculator"
   ]
  },
  {
   "cell_type": "code",
   "execution_count": null,
   "id": "302f46ed-d16b-40f9-8c35-4847f3ae91c4",
   "metadata": {},
   "outputs": [
    {
     "name": "stdout",
     "output_type": "stream",
     "text": [
      "Welcome to the Survival Durasion Calcolator!\n"
     ]
    }
   ],
   "source": [
    "\n",
    "def calculate_duration(age, unit):\n",
    "    \"\"\"\n",
    "    Calculate duration based on age and selected time unit.\n",
    "    :param age: Age in years\n",
    "    :param unit: Time unit to calculate duration\n",
    "    :return: Calculated duration\n",
    "    \"\"\"\n",
    "    if unit.lower() in ['m', 'months']:\n",
    "        return age * 12, \"Months\"\n",
    "    elif unit.lower() in ['w', 'weeks']:\n",
    "        return age * 52, \"Weeks\"\n",
    "    elif unit.lower() in ['d', 'days']:\n",
    "        return age * 365, \"Days\"  \n",
    "    elif unit.lower() in ['h', 'hours']:\n",
    "        return age * 365 * 24, \"Hours\"\n",
    "    elif unit.lower() in ['mi', 'minutes']:\n",
    "        return age * 365 * 24 * 60, \"Minutes\"\n",
    "    elif unit.lower() in ['s', 'seconds']:\n",
    "        return age * 365 * 24 * 60 * 60, \"Seconds\"\n",
    "    else:\n",
    "        return None, None\n",
    "\n",
    "print(\"Welcome to the Survival Durasion Calcolator!\")\n",
    "\n",
    "try:\n",
    "    age = int(input(\"Whats your age? \"))\n",
    "    if age < 0:\n",
    "        print(\"Age cannot be negative. Please restart the program and enter a valid age.\")\n",
    "        exit()\n",
    "except ValueError:\n",
    "    print(\"Invalid input. Please restart the program and enter a valid number for age.\")\n",
    "    exit()\n",
    "\n",
    "print(\"Please choose a time unit: Months, Weeks, Days, Hours, Minutes, Seconds.\")\n",
    "print(\"Note: You can write the first letter or the full name of the time unit.\")\n",
    "unit = input(\"Your choice: \")\n",
    "\n",
    "duration, unit_name = calculate_duration(age, unit)\n",
    "\n",
    "if duration is not None:\n",
    "    print(f\"You have lived for {duration:,} {unit_name}.\")\n",
    "else:\n",
    "    print(\"Invalid time unit selected. Please restart the program and choose a valid time unit.\")\n",
    "\n",
    "print(\"Thank you for using the Survival Duration Calculator!\")\n"
   ]
  },
  {
   "cell_type": "code",
   "execution_count": null,
   "id": "7373448d-3135-4cbb-ad6f-695c0f4f68a0",
   "metadata": {},
   "outputs": [],
   "source": []
  },
  {
   "cell_type": "code",
   "execution_count": null,
   "id": "de2617ef-30ed-4e9d-8925-a59f6a706152",
   "metadata": {},
   "outputs": [],
   "source": []
  },
  {
   "cell_type": "code",
   "execution_count": null,
   "id": "d3def48b-1ffc-4be8-a597-a14ca84450c7",
   "metadata": {},
   "outputs": [],
   "source": []
  },
  {
   "cell_type": "code",
   "execution_count": null,
   "id": "60f50379-28eb-4c6a-a2d1-c58540b24161",
   "metadata": {},
   "outputs": [],
   "source": []
  },
  {
   "cell_type": "code",
   "execution_count": null,
   "id": "dab0ad95-2f37-439a-a411-1ed0d13ec3c8",
   "metadata": {},
   "outputs": [],
   "source": []
  },
  {
   "cell_type": "code",
   "execution_count": null,
   "id": "bcc95790-9510-4add-882c-0f36075eb989",
   "metadata": {},
   "outputs": [],
   "source": []
  },
  {
   "cell_type": "code",
   "execution_count": null,
   "id": "7846b2e1-1e07-4e65-8ddf-a4287eaa1aca",
   "metadata": {},
   "outputs": [],
   "source": []
  },
  {
   "cell_type": "code",
   "execution_count": null,
   "id": "2552006f-52f1-4efc-a700-b0df72455b7f",
   "metadata": {},
   "outputs": [],
   "source": []
  },
  {
   "cell_type": "code",
   "execution_count": null,
   "id": "a564631f-b537-436b-9fc1-26acf1db197b",
   "metadata": {},
   "outputs": [],
   "source": []
  }
 ],
 "metadata": {
  "kernelspec": {
   "display_name": "Python 3 (ipykernel)",
   "language": "python",
   "name": "python3"
  },
  "language_info": {
   "codemirror_mode": {
    "name": "ipython",
    "version": 3
   },
   "file_extension": ".py",
   "mimetype": "text/x-python",
   "name": "python",
   "nbconvert_exporter": "python",
   "pygments_lexer": "ipython3",
   "version": "3.12.4"
  }
 },
 "nbformat": 4,
 "nbformat_minor": 5
}
